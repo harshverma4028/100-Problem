{
 "cells": [
  {
   "cell_type": "code",
   "execution_count": 2,
   "metadata": {},
   "outputs": [
    {
     "name": "stdout",
     "output_type": "stream",
     "text": [
      "your is less\n",
      "your is greater\n",
      "your is greater\n",
      "your is greater\n",
      "your is greater\n",
      "you guessed right:\n",
      "you took attemt : 5\n"
     ]
    }
   ],
   "source": [
    "import random\n",
    "\n",
    "guess = random.randint(1,100)\n",
    "\n",
    "counter =0  \n",
    "\n",
    "while guess != your:\n",
    "      your = int(input(\"Enter the no again :\"))\n",
    "\n",
    "      if guess > your: \n",
    "        print(\"your is less\")\n",
    "      else:\n",
    "        print(\"your is greater\")\n",
    "\n",
    "      counter +=1 \n",
    "print(\"you guessed right:\")\n",
    "print(\"you took attemt :\",counter)    "
   ]
  },
  {
   "cell_type": "code",
   "execution_count": null,
   "metadata": {},
   "outputs": [],
   "source": []
  }
 ],
 "metadata": {
  "kernelspec": {
   "display_name": "Python 3",
   "language": "python",
   "name": "python3"
  },
  "language_info": {
   "codemirror_mode": {
    "name": "ipython",
    "version": 3
   },
   "file_extension": ".py",
   "mimetype": "text/x-python",
   "name": "python",
   "nbconvert_exporter": "python",
   "pygments_lexer": "ipython3",
   "version": "3.11.1"
  }
 },
 "nbformat": 4,
 "nbformat_minor": 2
}
