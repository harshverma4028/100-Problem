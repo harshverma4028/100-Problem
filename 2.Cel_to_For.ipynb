{
 "cells": [
  {
   "cell_type": "code",
   "execution_count": 3,
   "metadata": {},
   "outputs": [
    {
     "name": "stdout",
     "output_type": "stream",
     "text": [
      "35.00 celsius is Equvalent to the: 95.00 fahrenhei \n"
     ]
    }
   ],
   "source": [
    "cel = int(input(\"Enter in celsius\"))\n",
    "\n",
    "far = (cel * 1.8) + 32\n",
    "\n",
    "print(\"%.2f celsius is Equvalent to the: %.2f fahrenheit \"%(cel,far))\n"
   ]
  },
  {
   "cell_type": "code",
   "execution_count": null,
   "metadata": {},
   "outputs": [],
   "source": []
  }
 ],
 "metadata": {
  "kernelspec": {
   "display_name": "Python 3",
   "language": "python",
   "name": "python3"
  },
  "language_info": {
   "codemirror_mode": {
    "name": "ipython",
    "version": 3
   },
   "file_extension": ".py",
   "mimetype": "text/x-python",
   "name": "python",
   "nbconvert_exporter": "python",
   "pygments_lexer": "ipython3",
   "version": "3.11.1"
  }
 },
 "nbformat": 4,
 "nbformat_minor": 2
}
