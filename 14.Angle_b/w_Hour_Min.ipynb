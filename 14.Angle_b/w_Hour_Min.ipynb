{
 "cells": [
  {
   "cell_type": "markdown",
   "metadata": {},
   "source": [
    "GFG Problem"
   ]
  },
  {
   "cell_type": "code",
   "execution_count": 10,
   "metadata": {},
   "outputs": [],
   "source": [
    "class Solution:\n",
    "    def getAngle(self, H , M):\n",
    "        #code here\n",
    "        \n",
    "         # validate the input\n",
    "        if (H < 0 or M < 0 or H > 12 or M > 60):\n",
    "            print('Wrong input')\n",
    "         \n",
    "        if (H == 12):\n",
    "            H = 0\n",
    "        if (M == 60):\n",
    "            M = 0\n",
    "            M += 1;\n",
    "            if(H>12):\n",
    "                   H= H-12;\n",
    "         \n",
    "        # Calculate the angles moved by \n",
    "        # hour and minute hands with \n",
    "        # reference to 12:00\n",
    "        hour_angle = 0.5 * (H * 60 + M)\n",
    "        minute_angle = 6 * M\n",
    "         \n",
    "        # Find the difference between two angles\n",
    "        angle = abs(hour_angle - minute_angle)\n",
    "         \n",
    "        # Return the smaller angle of two \n",
    "        # possible angles\n",
    "        angle = min(360 - angle, angle)\n",
    "         \n",
    "        return angle"
   ]
  },
  {
   "cell_type": "code",
   "execution_count": null,
   "metadata": {},
   "outputs": [],
   "source": []
  },
  {
   "cell_type": "code",
   "execution_count": null,
   "metadata": {},
   "outputs": [],
   "source": []
  }
 ],
 "metadata": {
  "kernelspec": {
   "display_name": "Python 3",
   "language": "python",
   "name": "python3"
  },
  "language_info": {
   "name": "python",
   "version": "3.11.1"
  }
 },
 "nbformat": 4,
 "nbformat_minor": 2
}
