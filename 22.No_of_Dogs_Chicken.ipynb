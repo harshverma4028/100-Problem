{
 "cells": [
  {
   "cell_type": "markdown",
   "metadata": {},
   "source": [
    "Write a program that will tell the number of dogs and chicken are there when the user will provide the value of total heads and legs."
   ]
  },
  {
   "cell_type": "code",
   "execution_count": 7,
   "metadata": {},
   "outputs": [
    {
     "name": "stdout",
     "output_type": "stream",
     "text": [
      "The number of chickens is: 4\n",
      "The number of dogs is: 1\n"
     ]
    }
   ],
   "source": [
    "h = int(input(\"Enter the Heads : \"))\n",
    "l = int(input(\"Enter the value of legs : \"))\n",
    "\n",
    "\n",
    "# c + d = h\n",
    "# 2*c + 4*d = l\n",
    "\n",
    "# d = h - c \n",
    "# 2* c + 4(h-c) =l\n",
    "# c = 2*h - (l//2)\n",
    "\n",
    "\n",
    "\n",
    "if l % 2 != 0 or h <= 0 or l < h * 2 or l > h * 4:\n",
    "    print(\"Invalid Input\")\n",
    "else:\n",
    "    # Calculate the number of chickens (c) and dogs (d)\n",
    "    c = 2 * h - (l // 2)  # Number of chickens\n",
    "    d = h - c              # Number of dogs\n",
    "    print(\"The number of chickens is:\", c)\n",
    "    print(\"The number of dogs is:\", d)"
   ]
  },
  {
   "cell_type": "code",
   "execution_count": null,
   "metadata": {},
   "outputs": [],
   "source": []
  }
 ],
 "metadata": {
  "kernelspec": {
   "display_name": "Python 3",
   "language": "python",
   "name": "python3"
  },
  "language_info": {
   "codemirror_mode": {
    "name": "ipython",
    "version": 3
   },
   "file_extension": ".py",
   "mimetype": "text/x-python",
   "name": "python",
   "nbconvert_exporter": "python",
   "pygments_lexer": "ipython3",
   "version": "3.11.1"
  }
 },
 "nbformat": 4,
 "nbformat_minor": 2
}
