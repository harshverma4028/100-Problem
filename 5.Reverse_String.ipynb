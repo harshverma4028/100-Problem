{
 "cells": [
  {
   "cell_type": "code",
   "execution_count": 7,
   "metadata": {},
   "outputs": [
    {
     "name": "stdout",
     "output_type": "stream",
     "text": [
      "4321\n",
      "its  reversed\n"
     ]
    }
   ],
   "source": [
    "#   Write a program that will reverse a four digit number.Also it checks whether the reverse is true.\n",
    " \n",
    "\n",
    "\n",
    "user_input = int(input(\"Enter the number : \"))\n",
    "num = user_input\n",
    "\n",
    "a = num % 10\n",
    "num = num //10\n",
    "\n",
    "b = num % 10\n",
    "num = num//10\n",
    "\n",
    "c = num % 10\n",
    "num = num // 10\n",
    "\n",
    "d = num\n",
    "\n",
    "rev= (1000*a + 100*b + 10*c + d)\n",
    "\n",
    "print(rev)\n",
    "\n",
    "\n",
    "if (user_input == rev):\n",
    "    print(\"its not reversed\")\n",
    "else:\n",
    "    print(\"its  reversed\")    \n"
   ]
  },
  {
   "cell_type": "code",
   "execution_count": 2,
   "metadata": {},
   "outputs": [
    {
     "name": "stdout",
     "output_type": "stream",
     "text": [
      "654321\n"
     ]
    }
   ],
   "source": [
    "no = int(input(\"Enter the number that you want to reverse : \"))\n",
    "rev = 0\n",
    "\n",
    "while (no > 0):\n",
    "    a = no % 10\n",
    "\n",
    "    rev = rev*10 + a\n",
    "    no = no // 10\n",
    "\n",
    "print(rev)    "
   ]
  }
 ],
 "metadata": {
  "kernelspec": {
   "display_name": "Python 3",
   "language": "python",
   "name": "python3"
  },
  "language_info": {
   "codemirror_mode": {
    "name": "ipython",
    "version": 3
   },
   "file_extension": ".py",
   "mimetype": "text/x-python",
   "name": "python",
   "nbconvert_exporter": "python",
   "pygments_lexer": "ipython3",
   "version": "3.11.1"
  }
 },
 "nbformat": 4,
 "nbformat_minor": 2
}
