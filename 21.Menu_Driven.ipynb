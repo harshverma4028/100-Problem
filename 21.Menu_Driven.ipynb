{
 "cells": [
  {
   "cell_type": "markdown",
   "metadata": {},
   "source": [
    " Write a menu driven program - 1.cm to ft 2.kl to miles 3.usd to inr 4.exit"
   ]
  },
  {
   "cell_type": "code",
   "execution_count": 12,
   "metadata": {},
   "outputs": [
    {
     "name": "stdout",
     "output_type": "stream",
     "text": [
      "39274.799999999996\n"
     ]
    }
   ],
   "source": [
    "# print(\"Enter the menu key : \\n 1.CM to FT \\n 2.kl to miles \\n 3.USD to INR\")\n",
    "\n",
    "def cm_to_ft(cm):\n",
    "    return cm / 30.48\n",
    "def km_to_miles(km):\n",
    "    return km * 0.621371\n",
    "def usd_to_inr(usd):\n",
    "    return usd * 85.38\n",
    "\n",
    "\n",
    "def main():\n",
    "    user_input = int(input(\"Enter the menu key : \\n 1.CM to FT \\n 2.kl to miles \\n 3.USD to INR\"))\n",
    "\n",
    "    if user_input == 1:\n",
    "      cm = float(input(\"Enter the vlaue in cm : \"))\n",
    "      feet = cm_to_ft(cm)\n",
    "      print(feet)\n",
    "    elif user_input ==2:\n",
    "      km = float(input(\"Enter the vlaue in KM : \"))\n",
    "      miles= km_to_miles(km)\n",
    "      print(miles)\n",
    "    elif user_input==3:\n",
    "      usd = float(input(\"Enter the in USD : \"))\n",
    "      inr = usd_to_inr(usd)\n",
    "      print(inr)\n",
    "    else:\n",
    "      print(\"Invalid input \")       \n",
    "     \n",
    "if __name__ == \"__main__\":\n",
    "   main()     "
   ]
  },
  {
   "cell_type": "code",
   "execution_count": null,
   "metadata": {},
   "outputs": [],
   "source": []
  }
 ],
 "metadata": {
  "kernelspec": {
   "display_name": "Python 3",
   "language": "python",
   "name": "python3"
  },
  "language_info": {
   "codemirror_mode": {
    "name": "ipython",
    "version": 3
   },
   "file_extension": ".py",
   "mimetype": "text/x-python",
   "name": "python",
   "nbconvert_exporter": "python",
   "pygments_lexer": "ipython3",
   "version": "3.11.1"
  }
 },
 "nbformat": 4,
 "nbformat_minor": 2
}
