{
 "cells": [
  {
   "cell_type": "markdown",
   "metadata": {},
   "source": [
    "Write a program to merge 2 list without using the + operator"
   ]
  },
  {
   "cell_type": "code",
   "execution_count": 3,
   "metadata": {},
   "outputs": [
    {
     "name": "stdout",
     "output_type": "stream",
     "text": [
      "[21, 12, 14, 41, 2, 23, 4, 5, 3, 5, 6, 7, 8, 24, 46, 44, 32, 66, 77, 90]\n"
     ]
    }
   ],
   "source": [
    "a = [21,12,14,41,2,23,4,5,3,5,6,7,8]\n",
    "b = [24,46,44,32,66,77,90]\n",
    "\n",
    "c = []\n",
    "for i in a:\n",
    "    c.append(i)\n",
    "for i in b:\n",
    "    c.append(i)    \n",
    "\n",
    "print(c)    "
   ]
  },
  {
   "cell_type": "code",
   "execution_count": null,
   "metadata": {},
   "outputs": [
    {
     "name": "stdout",
     "output_type": "stream",
     "text": [
      "[21, 12, 14, 41, 2, 23, 4, 5, 3, 5, 6, 7, 8, 24, 46, 44, 32, 66, 77, 90]\n"
     ]
    }
   ],
   "source": [
    "a = [21,12,14,41,2,23,4,5,3,5,6,7,8]\n",
    "b = [24,46,44,32,66,77,90]\n",
    "\n",
    "c = []\n",
    "##  we can create function too\n",
    "c.extend(a)\n",
    "c.extend(b)\n",
    "print(c)\n"
   ]
  },
  {
   "cell_type": "code",
   "execution_count": null,
   "metadata": {},
   "outputs": [],
   "source": []
  }
 ],
 "metadata": {
  "kernelspec": {
   "display_name": "Python 3",
   "language": "python",
   "name": "python3"
  },
  "language_info": {
   "codemirror_mode": {
    "name": "ipython",
    "version": 3
   },
   "file_extension": ".py",
   "mimetype": "text/x-python",
   "name": "python",
   "nbconvert_exporter": "python",
   "pygments_lexer": "ipython3",
   "version": "3.11.1"
  }
 },
 "nbformat": 4,
 "nbformat_minor": 2
}
