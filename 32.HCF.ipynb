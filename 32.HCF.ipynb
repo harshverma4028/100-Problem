{
 "cells": [
  {
   "cell_type": "markdown",
   "metadata": {},
   "source": [
    " User will provide 2 numbers you have to find the HCF of those 2 numbers"
   ]
  },
  {
   "cell_type": "code",
   "execution_count": 4,
   "metadata": {},
   "outputs": [
    {
     "name": "stdout",
     "output_type": "stream",
     "text": [
      "the HCF is  14\n"
     ]
    }
   ],
   "source": [
    "a = int(input(\"Enter the first no: \"))\n",
    "b = int(input(\"Enter the Second No: \"))\n",
    "\n",
    "# if a == b:\n",
    "#     print(a)\n",
    "# elif a > b :\n",
    "#     print(a-b,b)\n",
    "# else:\n",
    "#     print(a,b-a)        \n",
    "\n",
    "while a % b !=0:\n",
    "    rem = a  % b\n",
    "    a = b\n",
    "    b = rem\n",
    "print(\"the HCF is \",b)       "
   ]
  },
  {
   "cell_type": "code",
   "execution_count": null,
   "metadata": {},
   "outputs": [],
   "source": []
  }
 ],
 "metadata": {
  "kernelspec": {
   "display_name": "Python 3",
   "language": "python",
   "name": "python3"
  },
  "language_info": {
   "codemirror_mode": {
    "name": "ipython",
    "version": 3
   },
   "file_extension": ".py",
   "mimetype": "text/x-python",
   "name": "python",
   "nbconvert_exporter": "python",
   "pygments_lexer": "ipython3",
   "version": "3.11.1"
  }
 },
 "nbformat": 4,
 "nbformat_minor": 2
}
