{
 "cells": [
  {
   "cell_type": "markdown",
   "metadata": {},
   "source": [
    " User will provide 2 numbers you have to find the HCF of those 2 numbers"
   ]
  },
  {
   "cell_type": "code",
   "execution_count": 4,
   "metadata": {},
   "outputs": [
    {
     "name": "stdout",
     "output_type": "stream",
     "text": [
      "the HCF is  14\n"
     ]
    }
   ],
   "source": [
    "a = int(input(\"Enter the first no: \"))\n",
    "b = int(input(\"Enter the Second No: \"))\n",
    "\n",
    "\n",
    "\n",
    "while a % b !=0:\n",
    "    rem = a  % b\n",
    "    a = b\n",
    "    b = rem\n",
    "print(\"the HCF is \",b)       "
   ]
  },
  {
   "cell_type": "code",
   "execution_count": 2,
   "metadata": {},
   "outputs": [
    {
     "name": "stdout",
     "output_type": "stream",
     "text": [
      "the HCF of given no is  14\n"
     ]
    }
   ],
   "source": [
    "def findHCF(x,y):\n",
    "    if x > y:\n",
    "        smaller = y\n",
    "    elif y > x:\n",
    "        smaller = x\n",
    "    else:\n",
    "        print(\"Enter the vlid no \")\n",
    "\n",
    "\n",
    "    for i in range(1,smaller+1):\n",
    "        if  ( x % i ==0 ) and ( y % i == 0):\n",
    "            hcf = i\n",
    "    return hcf\n",
    "print(\"the HCF of given no is \",findHCF(98,56))        "
   ]
  }
 ],
 "metadata": {
  "kernelspec": {
   "display_name": "Python 3",
   "language": "python",
   "name": "python3"
  },
  "language_info": {
   "codemirror_mode": {
    "name": "ipython",
    "version": 3
   },
   "file_extension": ".py",
   "mimetype": "text/x-python",
   "name": "python",
   "nbconvert_exporter": "python",
   "pygments_lexer": "ipython3",
   "version": "3.11.1"
  }
 },
 "nbformat": 4,
 "nbformat_minor": 2
}
