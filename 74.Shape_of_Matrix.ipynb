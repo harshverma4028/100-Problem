{
 "cells": [
  {
   "cell_type": "markdown",
   "metadata": {},
   "source": [
    " Write a program to print the shape of a matrix."
   ]
  },
  {
   "cell_type": "code",
   "execution_count": 1,
   "metadata": {},
   "outputs": [
    {
     "name": "stdout",
     "output_type": "stream",
     "text": [
      "the shape of matrix is  3 * 4\n"
     ]
    }
   ],
   "source": [
    "matrix = [[1,20,3,4],\n",
    "    [5,6,7,8],\n",
    "    [9,10,11,12]\n",
    "    ]\n",
    "\n",
    "row = 0\n",
    "for i in matrix:\n",
    "    row = row + 1\n",
    "\n",
    "print(\"the shape of matrix is \",row,'*', len(i))    \n"
   ]
  }
 ],
 "metadata": {
  "kernelspec": {
   "display_name": "Python 3",
   "language": "python",
   "name": "python3"
  },
  "language_info": {
   "codemirror_mode": {
    "name": "ipython",
    "version": 3
   },
   "file_extension": ".py",
   "mimetype": "text/x-python",
   "name": "python",
   "nbconvert_exporter": "python",
   "pygments_lexer": "ipython3",
   "version": "3.11.1"
  }
 },
 "nbformat": 4,
 "nbformat_minor": 2
}
