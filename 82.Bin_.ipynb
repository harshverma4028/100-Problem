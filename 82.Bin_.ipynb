{
 "cells": [
  {
   "cell_type": "markdown",
   "metadata": {},
   "source": [
    "Write a program to find histogram of a given set of numbers. Take bin\n",
    "size from user. Print the result in the form of a dictionary."
   ]
  },
  {
   "cell_type": "code",
   "execution_count": 1,
   "metadata": {},
   "outputs": [
    {
     "name": "stdout",
     "output_type": "stream",
     "text": [
      "Histogram: {(3, 13): 4, (13, 23): 13, (23, 33): 3, (33, 43): 0, (43, 53): 0, (53, 63): 0, (63, 73): 0, (73, 83): 0, (83, 93): 0, (93, 103): 0, (103, 113): 0, (113, 123): 0, (123, 133): 0, (133, 143): 0, (143, 153): 0, (153, 163): 0, (163, 173): 0, (173, 183): 0, (183, 193): 1}\n"
     ]
    }
   ],
   "source": [
    "def compute_histogram(numbers, bin_size):\n",
    "    if not numbers:\n",
    "        return {}\n",
    "\n",
    "    min_val = min(numbers)\n",
    "    max_val = max(numbers)\n",
    "    \n",
    "    # Compute bin ranges\n",
    "    bins = {}\n",
    "    start = min_val\n",
    "    while start <= max_val:\n",
    "        end = start + bin_size\n",
    "        bins[(start, end)] = 0\n",
    "        start = end\n",
    "    \n",
    "    # Assign numbers to bins\n",
    "    for num in numbers:\n",
    "        for (low, high) in bins:\n",
    "            if low <= num < high:\n",
    "                bins[(low, high)] += 1\n",
    "                break\n",
    "    \n",
    "    return bins\n",
    "\n",
    "# Example Usage\n",
    "numbers = list(map(int, input(\"Enter numbers separated by space: \").split()))\n",
    "bin_size = int(input(\"Enter bin size: \"))\n",
    "\n",
    "histogram = compute_histogram(numbers, bin_size)\n",
    "print(\"Histogram:\", histogram)\n"
   ]
  },
  {
   "cell_type": "code",
   "execution_count": null,
   "metadata": {},
   "outputs": [],
   "source": []
  }
 ],
 "metadata": {
  "kernelspec": {
   "display_name": "Python 3",
   "language": "python",
   "name": "python3"
  },
  "language_info": {
   "codemirror_mode": {
    "name": "ipython",
    "version": 3
   },
   "file_extension": ".py",
   "mimetype": "text/x-python",
   "name": "python",
   "nbconvert_exporter": "python",
   "pygments_lexer": "ipython3",
   "version": "3.11.1"
  }
 },
 "nbformat": 4,
 "nbformat_minor": 2
}
