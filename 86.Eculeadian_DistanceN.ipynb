{
 "cells": [
  {
   "cell_type": "markdown",
   "metadata": {},
   "source": [
    "Write a program that accepts neighbors(set of 2D co-ordinates) and a\n",
    " point(single 2D co-ordinate) and tells nearest neighbor(in terms of\n",
    " euclidean distance)"
   ]
  },
  {
   "cell_type": "code",
   "execution_count": 6,
   "metadata": {},
   "outputs": [
    {
     "name": "stdout",
     "output_type": "stream",
     "text": [
      "The nearest neighbor to (4, 5) is (3, 4).\n"
     ]
    }
   ],
   "source": [
    "import math\n",
    "\n",
    "def calculate_distance(p1, p2):\n",
    "    return math.sqrt((p2[0] - p1[0]) ** 2 + (p2[1] - p1[1]) ** 2)\n",
    "\n",
    "def nearest_number(neighbours, point):\n",
    "    nearest_neighbor = None\n",
    "    min_distance = float('inf')  # Initialize to a large number\n",
    "\n",
    "    for neighbor in neighbours:\n",
    "        # Calculate distance between the current neighbor and the point\n",
    "        distance = calculate_distance(neighbor, point)\n",
    "        \n",
    "        if distance < min_distance:\n",
    "            min_distance = distance\n",
    "            nearest_neighbor = neighbor\n",
    "    \n",
    "    return nearest_neighbor\n",
    "\n",
    "\n",
    "# Set of neighbors as 2D coordinates\n",
    "neighbors = {(1, 2), (3, 4), (5, 6), (7, 8)}\n",
    "\n",
    "# Single point to find the nearest neighbor to\n",
    "point = (4, 5)\n",
    "\n",
    "# Call the function and print the result\n",
    "nearest = nearest_number(neighbors, point)\n",
    "print(f\"The nearest neighbor to {point} is {nearest}.\")"
   ]
  }
 ],
 "metadata": {
  "kernelspec": {
   "display_name": "Python 3",
   "language": "python",
   "name": "python3"
  },
  "language_info": {
   "codemirror_mode": {
    "name": "ipython",
    "version": 3
   },
   "file_extension": ".py",
   "mimetype": "text/x-python",
   "name": "python",
   "nbconvert_exporter": "python",
   "pygments_lexer": "ipython3",
   "version": "3.11.1"
  }
 },
 "nbformat": 4,
 "nbformat_minor": 2
}
