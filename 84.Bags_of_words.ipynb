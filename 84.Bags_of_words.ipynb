{
 "cells": [
  {
   "cell_type": "markdown",
   "metadata": {},
   "source": [
    "Write a function that accepts a list of strings and performs Bag of words\n",
    " and convert it to numerical vectors.\n",
    " https://en.wikipedia.org/wiki/Bag-of-words_model"
   ]
  },
  {
   "cell_type": "code",
   "execution_count": null,
   "metadata": {},
   "outputs": [
    {
     "data": {
      "text/plain": [
       "[[0, 0, 0, 0, 0, 1, 0, 0, 0, 1, 0, 0, 1, 0, 1, 0, 0],\n",
       " [1, 0, 0, 1, 1, 0, 0, 1, 1, 0, 0, 0, 0, 0, 1, 0, 0],\n",
       " [0, 0, 1, 0, 0, 0, 0, 0, 0, 0, 1, 0, 0, 0, 1, 1, 0],\n",
       " [0, 1, 0, 0, 0, 0, 0, 0, 0, 0, 0, 1, 0, 0, 0, 0, 1],\n",
       " [0, 0, 0, 0, 1, 0, 1, 0, 0, 1, 0, 0, 0, 1, 1, 0, 0]]"
      ]
     },
     "execution_count": 12,
     "metadata": {},
     "output_type": "execute_result"
    }
   ],
   "source": [
    "def bow(sentences):\n",
    "    vocab = []\n",
    "\n",
    "    for i in sentences:\n",
    "        vocab.extend(i.split())\n",
    "\n",
    "    vocab = list(sentences(vocab))\n",
    "\n",
    "    vector2d = []\n",
    "    for sentence in sentences:\n",
    "        vector = []\n",
    "\n",
    "        for word in vocab:\n",
    "            vector.append(sentence.count(word))\n",
    "        vector2d.append(vector)    \n",
    "    return vector2d    \n",
    "\n",
    "senteces = [\n",
    "    'Hello how are you ',\n",
    "    'I was Waiting for you call',\n",
    "    'where do you work',\n",
    "    'Lets meet someday',\n",
    "    'I Hope you are fine '\n",
    "]\n",
    "\n",
    "bow(senteces)"
   ]
  },
  {
   "cell_type": "code",
   "execution_count": null,
   "metadata": {},
   "outputs": [],
   "source": []
  }
 ],
 "metadata": {
  "kernelspec": {
   "display_name": "Python 3",
   "language": "python",
   "name": "python3"
  },
  "language_info": {
   "codemirror_mode": {
    "name": "ipython",
    "version": 3
   },
   "file_extension": ".py",
   "mimetype": "text/x-python",
   "name": "python",
   "nbconvert_exporter": "python",
   "pygments_lexer": "ipython3",
   "version": "3.11.1"
  }
 },
 "nbformat": 4,
 "nbformat_minor": 2
}
