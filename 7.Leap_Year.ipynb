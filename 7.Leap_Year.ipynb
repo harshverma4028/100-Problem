{
 "cells": [
  {
   "cell_type": "code",
   "execution_count": null,
   "metadata": {},
   "outputs": [
    {
     "name": "stdout",
     "output_type": "stream",
     "text": [
      "Ther year is the Leap Year\n"
     ]
    }
   ],
   "source": [
    "# Write a program that will tell whether the number entered by the user is odd or even.\n",
    "\n",
    "\n",
    "\n",
    "year = int(input(\"Enter the year: \"))\n",
    "\n",
    "if year % 400==0 | year % 100 !=0 | year % 4==0 :\n",
    "    print(\"Ther year is the Leap Year\")\n",
    "else:\n",
    "    print(\"The year is not the leap year\")    "
   ]
  },
  {
   "cell_type": "code",
   "execution_count": null,
   "metadata": {},
   "outputs": [],
   "source": []
  }
 ],
 "metadata": {
  "kernelspec": {
   "display_name": "Python 3",
   "language": "python",
   "name": "python3"
  },
  "language_info": {
   "codemirror_mode": {
    "name": "ipython",
    "version": 3
   },
   "file_extension": ".py",
   "mimetype": "text/x-python",
   "name": "python",
   "nbconvert_exporter": "python",
   "pygments_lexer": "ipython3",
   "version": "3.11.1"
  }
 },
 "nbformat": 4,
 "nbformat_minor": 2
}
