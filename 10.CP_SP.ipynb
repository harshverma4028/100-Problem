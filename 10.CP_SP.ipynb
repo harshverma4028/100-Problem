{
 "cells": [
  {
   "cell_type": "markdown",
   "metadata": {},
   "source": [
    "Write a program that will take user input of cost price and selling price and determines whether its a loss or a profit"
   ]
  },
  {
   "cell_type": "code",
   "execution_count": 8,
   "metadata": {},
   "outputs": [
    {
     "name": "stdout",
     "output_type": "stream",
     "text": [
      "You made loss of : ₹ 1.0\n"
     ]
    }
   ],
   "source": [
    "cp = float(input(\"Enter the Cost Price :\"))\n",
    "sp = float(input(\"Enter the selling price : \"))\n",
    "\n",
    "if cp>sp:\n",
    "    print(\"You made loss of : ₹\",cp-sp)\n",
    "elif cp==sp:\n",
    "    print(\"no Profit and No loss\")\n",
    "else:\n",
    "    print(\"you made profit of : ₹\",sp-cp)        "
   ]
  },
  {
   "cell_type": "code",
   "execution_count": null,
   "metadata": {},
   "outputs": [],
   "source": []
  }
 ],
 "metadata": {
  "kernelspec": {
   "display_name": "Python 3",
   "language": "python",
   "name": "python3"
  },
  "language_info": {
   "codemirror_mode": {
    "name": "ipython",
    "version": 3
   },
   "file_extension": ".py",
   "mimetype": "text/x-python",
   "name": "python",
   "nbconvert_exporter": "python",
   "pygments_lexer": "ipython3",
   "version": "3.11.1"
  }
 },
 "nbformat": 4,
 "nbformat_minor": 2
}
