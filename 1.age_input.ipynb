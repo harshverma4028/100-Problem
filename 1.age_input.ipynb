{
 "cells": [
  {
   "cell_type": "markdown",
   "metadata": {},
   "source": [
    "1. User will input (3ages).Find the oldest one\n"
   ]
  },
  {
   "cell_type": "code",
   "execution_count": 31,
   "metadata": {},
   "outputs": [],
   "source": [
    "a = int(input(\"Enter the 1st person's age\" ))\n",
    "b = int(input(\"Enter the 2nd person's age\"))\n",
    "c= int(input(\"Enter the 3rd person's age\"))\n",
    "\n",
    "def get_great(a,b,c):\n",
    "          if a>b and a>c:\n",
    "             print(a,\"a is the greater number\")\n",
    "          elif b>a and b>c:\n",
    "             print(b,\"b is the greater number\")\n",
    "          else:\n",
    "              print(c,\"C is the greater number\")               "
   ]
  },
  {
   "cell_type": "code",
   "execution_count": 39,
   "metadata": {},
   "outputs": [
    {
     "name": "stdout",
     "output_type": "stream",
     "text": [
      "23 B is the greatest\n"
     ]
    }
   ],
   "source": [
    "greatest = a \n",
    "\n",
    "if greatest < b:\n",
    "\n",
    "    print(b,\"B is the greatest\")\n",
    "\n",
    "elif greatest < c:\n",
    "\n",
    "    print(c,\"C is the greatest\")\n",
    "\n",
    "else:\n",
    "\n",
    "    print(a,\"A is the greatest\")       "
   ]
  },
  {
   "cell_type": "code",
   "execution_count": 41,
   "metadata": {},
   "outputs": [
    {
     "name": "stdout",
     "output_type": "stream",
     "text": [
      "24 C is the greater number\n"
     ]
    }
   ],
   "source": [
    "get_great(a,b,c)"
   ]
  },
  {
   "cell_type": "code",
   "execution_count": null,
   "metadata": {},
   "outputs": [],
   "source": []
  }
 ],
 "metadata": {
  "kernelspec": {
   "display_name": "Python 3",
   "language": "python",
   "name": "python3"
  },
  "language_info": {
   "codemirror_mode": {
    "name": "ipython",
    "version": 3
   },
   "file_extension": ".py",
   "mimetype": "text/x-python",
   "name": "python",
   "nbconvert_exporter": "python",
   "pygments_lexer": "ipython3",
   "version": "3.11.1"
  }
 },
 "nbformat": 4,
 "nbformat_minor": 2
}
