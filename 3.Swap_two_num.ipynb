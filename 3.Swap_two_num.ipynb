{
 "cells": [
  {
   "cell_type": "code",
   "execution_count": 1,
   "metadata": {},
   "outputs": [
    {
     "name": "stdout",
     "output_type": "stream",
     "text": [
      "Before swaping is : 12 21\n",
      "after swaping are:  21 12\n"
     ]
    }
   ],
   "source": [
    "# User will input (2numbers).Write a program to swap the numbers\n",
    "\n",
    "a = int(input(\"enter the first No: \"))\n",
    "b = int(input(\"Enter the second No: \"))\n",
    "\n",
    "# a = 5\n",
    "# b = 10\n",
    "print(\"Before swaping is :\",a,b)\n",
    "\n",
    "a,b=b,a\n",
    "\n",
    "print(\"after swaping are: \",a,b)"
   ]
  },
  {
   "cell_type": "markdown",
   "metadata": {},
   "source": [
    "2nd Method "
   ]
  },
  {
   "cell_type": "code",
   "execution_count": 2,
   "metadata": {},
   "outputs": [
    {
     "name": "stdout",
     "output_type": "stream",
     "text": [
      "Before swaping a and b are : 10 20\n",
      "After swaping the result are : 20 10\n"
     ]
    }
   ],
   "source": [
    "a = 10 \n",
    "b = 20 \n",
    "print(\"Before swaping a and b are :\",a,b)\n",
    "k = a\n",
    "a = b \n",
    "b = k \n",
    "\n",
    "print(\"After swaping the result are :\",a,b)"
   ]
  },
  {
   "cell_type": "code",
   "execution_count": null,
   "metadata": {},
   "outputs": [],
   "source": []
  }
 ],
 "metadata": {
  "kernelspec": {
   "display_name": "Python 3",
   "language": "python",
   "name": "python3"
  },
  "language_info": {
   "codemirror_mode": {
    "name": "ipython",
    "version": 3
   },
   "file_extension": ".py",
   "mimetype": "text/x-python",
   "name": "python",
   "nbconvert_exporter": "python",
   "pygments_lexer": "ipython3",
   "version": "3.11.1"
  }
 },
 "nbformat": 4,
 "nbformat_minor": 2
}
