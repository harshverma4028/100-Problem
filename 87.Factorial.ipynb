{
 "cells": [
  {
   "cell_type": "markdown",
   "id": "311f2aa7",
   "metadata": {},
   "source": [
    "87.Write a function that accepts a number and returns it’s factorial. You\n",
    " can not use any loop"
   ]
  },
  {
   "cell_type": "code",
   "execution_count": 10,
   "id": "f13dc5bd",
   "metadata": {},
   "outputs": [
    {
     "name": "stdout",
     "output_type": "stream",
     "text": [
      "120\n"
     ]
    }
   ],
   "source": [
    "# s = int(input(\"Enter the value :\"))\n",
    "\n",
    "# s = 5\n",
    "def factorial(s):\n",
    "    if s == 0 or s == 1:\n",
    "        return 1\n",
    "    return s * factorial(s-1)\n",
    "\n",
    "s = int(input(\"Enter the value of s \"))\n",
    "print(f\"{factorial(s)}\")"
   ]
  },
  {
   "cell_type": "code",
   "execution_count": null,
   "id": "20895142",
   "metadata": {},
   "outputs": [],
   "source": []
  }
 ],
 "metadata": {
  "kernelspec": {
   "display_name": "Python 3",
   "language": "python",
   "name": "python3"
  },
  "language_info": {
   "codemirror_mode": {
    "name": "ipython",
    "version": 3
   },
   "file_extension": ".py",
   "mimetype": "text/x-python",
   "name": "python",
   "nbconvert_exporter": "python",
   "pygments_lexer": "ipython3",
   "version": "3.11.1"
  }
 },
 "nbformat": 4,
 "nbformat_minor": 5
}
