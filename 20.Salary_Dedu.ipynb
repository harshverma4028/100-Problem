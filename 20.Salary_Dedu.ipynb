{
 "cells": [
  {
   "cell_type": "markdown",
   "metadata": {},
   "source": [
    "Write a program that will give you the in hand salary after deduction of HRA(10%),DA(5%),PF(3%), and tax(if salary is between 5-10 lakh–10%),(11-20lakh–20%),(20< _ – 30%)(0-1lakh print k)."
   ]
  },
  {
   "cell_type": "code",
   "execution_count": 4,
   "metadata": {},
   "outputs": [
    {
     "name": "stdout",
     "output_type": "stream",
     "text": [
      "In Hand sal per month is :  103333.33333333333\n"
     ]
    }
   ],
   "source": [
    "sal = int(input(\"Enter the salary amount : \"))\n",
    "\n",
    "hra = sal * 0.1\n",
    "da = sal * 0.05\n",
    "pf = sal * 0.03\n",
    "\n",
    "if 500000 < sal <= 1000000:\n",
    "    tax = sal * 0.1\n",
    "elif 1000000 < sal <= 2000000:\n",
    "    tax = sal * 0.2\n",
    "elif sal > 2000000:\n",
    "    tax = sal * 0.3  \n",
    "else:\n",
    "    tax = 0  \n",
    "\n",
    "nsal = (sal - hra - da - pf - tax) /12\n",
    "\n",
    "print(\"In Hand sal per month is : \",nsal)      "
   ]
  },
  {
   "cell_type": "code",
   "execution_count": null,
   "metadata": {},
   "outputs": [],
   "source": []
  }
 ],
 "metadata": {
  "kernelspec": {
   "display_name": "Python 3",
   "language": "python",
   "name": "python3"
  },
  "language_info": {
   "codemirror_mode": {
    "name": "ipython",
    "version": 3
   },
   "file_extension": ".py",
   "mimetype": "text/x-python",
   "name": "python",
   "nbconvert_exporter": "python",
   "pygments_lexer": "ipython3",
   "version": "3.11.1"
  }
 },
 "nbformat": 4,
 "nbformat_minor": 2
}
