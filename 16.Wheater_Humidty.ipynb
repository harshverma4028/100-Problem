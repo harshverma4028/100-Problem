{
 "cells": [
  {
   "cell_type": "markdown",
   "metadata": {},
   "source": [
    " Write a program that will determine weather when the value of\n",
    "temperature and humidity is provided by the user.\n",
    "TEMPERATURE(C) HUMIDITY(%) WEATHER\n",
    ">= 30 >=90 Hot and Humid\n",
    ">= 30 < 90 Hot\n",
    "<30 >= 90 Cool and Humid\n",
    "<30 <90 Cool\n"
   ]
  },
  {
   "cell_type": "code",
   "execution_count": 2,
   "metadata": {},
   "outputs": [
    {
     "name": "stdout",
     "output_type": "stream",
     "text": [
      "HOT\n"
     ]
    }
   ],
   "source": [
    "temp = int(input(\"Enter the TEMPERATURE : \"))\n",
    "humd = int(input(\"Enter the HUMIDITY % : \"))\n",
    "\n",
    "if temp >= 30 and humd >=90:\n",
    "    print(\"HOT AND HUMID\")\n",
    "elif temp >= 30 and humd < 90:\n",
    "    print(\"HOT\")  \n",
    "elif temp <30 and humd >= 90:\n",
    "    print(\"COOL AND HUMID\")\n",
    "elif temp <30 and humd <90:\n",
    "    print(\"COOL \")"
   ]
  }
 ],
 "metadata": {
  "kernelspec": {
   "display_name": "Python 3",
   "language": "python",
   "name": "python3"
  },
  "language_info": {
   "codemirror_mode": {
    "name": "ipython",
    "version": 3
   },
   "file_extension": ".py",
   "mimetype": "text/x-python",
   "name": "python",
   "nbconvert_exporter": "python",
   "pygments_lexer": "ipython3",
   "version": "3.11.1"
  }
 },
 "nbformat": 4,
 "nbformat_minor": 2
}
