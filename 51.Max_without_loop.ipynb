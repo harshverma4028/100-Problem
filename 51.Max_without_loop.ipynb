{
 "cells": [
  {
   "cell_type": "markdown",
   "metadata": {},
   "source": [
    "Write a python program to find the max item from a list without using the max function"
   ]
  },
  {
   "cell_type": "code",
   "execution_count": 1,
   "metadata": {},
   "outputs": [
    {
     "name": "stdout",
     "output_type": "stream",
     "text": [
      "the max is 85\n"
     ]
    }
   ],
   "source": [
    "List = [10,12,2,5,4,7,23,26,56,85,54,57,6,25,11]\n",
    "\n",
    "max = 1\n",
    "\n",
    "for i in range(0,len(List)):\n",
    "\n",
    "        if max <= List[i]:\n",
    "            max = List[i]\n",
    "\n",
    "print(f\"the max is {max}\")    \n"
   ]
  },
  {
   "cell_type": "code",
   "execution_count": null,
   "metadata": {},
   "outputs": [],
   "source": []
  }
 ],
 "metadata": {
  "kernelspec": {
   "display_name": "Python 3",
   "language": "python",
   "name": "python3"
  },
  "language_info": {
   "codemirror_mode": {
    "name": "ipython",
    "version": 3
   },
   "file_extension": ".py",
   "mimetype": "text/x-python",
   "name": "python",
   "nbconvert_exporter": "python",
   "pygments_lexer": "ipython3",
   "version": "3.11.1"
  }
 },
 "nbformat": 4,
 "nbformat_minor": 2
}
