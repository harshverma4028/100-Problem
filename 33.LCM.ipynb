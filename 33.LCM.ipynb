{
 "cells": [
  {
   "cell_type": "markdown",
   "metadata": {},
   "source": [
    " User will provide 2 numbers you have to find the by LCM of those 2 numbers"
   ]
  },
  {
   "cell_type": "code",
   "execution_count": 4,
   "metadata": {},
   "outputs": [
    {
     "name": "stdout",
     "output_type": "stream",
     "text": [
      "the LCM of 20 and 28 is 140\n"
     ]
    }
   ],
   "source": [
    "a = int(input(\"Enter the first No : \"))\n",
    "b = int(input(\"Enter the Second No\"))\n",
    "\n",
    "maxnum = max(a,b)\n",
    "\n",
    "while(True):\n",
    "    if (maxnum % a == 0 and maxnum % b == 0):\n",
    "        break\n",
    "    maxnum +=1\n",
    "print(f\"the LCM of {a} and {b} is {maxnum}\")    "
   ]
  },
  {
   "cell_type": "code",
   "execution_count": 1,
   "metadata": {},
   "outputs": [
    {
     "name": "stdout",
     "output_type": "stream",
     "text": [
      "the hcf is4 and the lcm is 140.0\n"
     ]
    }
   ],
   "source": [
    "a = int(input(\"Enter the first no\"))\n",
    "num1 = a\n",
    "b = int(input(\"Enter the second no\"))\n",
    "num2 = b\n",
    "\n",
    "while num1 % num2 != 0:\n",
    "    rem = num1 % num2 \n",
    "    num1 = num2 \n",
    "    num2 = rem\n",
    "hcf = num2    \n",
    "lcm = (a * b)/hcf\n",
    "\n",
    "\n",
    "print(f\"the hcf is {hcf} and the lcm is {lcm}\")"
   ]
  },
  {
   "cell_type": "code",
   "execution_count": null,
   "metadata": {},
   "outputs": [],
   "source": []
  }
 ],
 "metadata": {
  "kernelspec": {
   "display_name": "Python 3",
   "language": "python",
   "name": "python3"
  },
  "language_info": {
   "codemirror_mode": {
    "name": "ipython",
    "version": 3
   },
   "file_extension": ".py",
   "mimetype": "text/x-python",
   "name": "python",
   "nbconvert_exporter": "python",
   "pygments_lexer": "ipython3",
   "version": "3.11.1"
  }
 },
 "nbformat": 4,
 "nbformat_minor": 2
}
