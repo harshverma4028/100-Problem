{
 "cells": [
  {
   "cell_type": "markdown",
   "metadata": {},
   "source": [
    " Write a program that can convert a 2D list to 1D listWrite a program that can print"
   ]
  },
  {
   "cell_type": "code",
   "execution_count": null,
   "metadata": {},
   "outputs": [
    {
     "name": "stdout",
     "output_type": "stream",
     "text": [
      "The early 2D list is :[[1, 2, 3, 4, 5], [6, 7, 8, 9, 10]]\n",
      "list after the Flatten is [1, 2, 3, 4, 5, 6, 7, 8, 9, 10]\n"
     ]
    }
   ],
   "source": [
    "a = [[1,2,3,4,5],[6,7,8,9,10]]\n",
    "# print(a)\n",
    "b = []\n",
    "for i in a:\n",
    "    if type(i) == list:\n",
    "        b.extend(i)\n",
    "    else:\n",
    "        b.append(i)   \n",
    "\n",
    "\n",
    "print(f\"The early 2D list is :{a}\")\n",
    "print(f\"list after the Flatten is {b}\")         "
   ]
  },
  {
   "cell_type": "code",
   "execution_count": null,
   "metadata": {},
   "outputs": [],
   "source": []
  }
 ],
 "metadata": {
  "kernelspec": {
   "display_name": "Python 3",
   "language": "python",
   "name": "python3"
  },
  "language_info": {
   "codemirror_mode": {
    "name": "ipython",
    "version": 3
   },
   "file_extension": ".py",
   "mimetype": "text/x-python",
   "name": "python",
   "nbconvert_exporter": "python",
   "pygments_lexer": "ipython3",
   "version": "3.11.1"
  }
 },
 "nbformat": 4,
 "nbformat_minor": 2
}
