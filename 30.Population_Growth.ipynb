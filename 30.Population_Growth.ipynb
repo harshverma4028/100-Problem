{
 "cells": [
  {
   "cell_type": "markdown",
   "metadata": {},
   "source": [
    "The current population of a town is 10000. The population of the town is increasing at the rate of 10% per year You have to write a program to find out the population at the end of each of the last 10 years. For eg current population is 10000 so the output should be like this:\n",
    "10th year - 10000\n",
    "9th year - 9000\n",
    "8th year - 8100 and so on"
   ]
  },
  {
   "cell_type": "code",
   "execution_count": 18,
   "metadata": {},
   "outputs": [
    {
     "name": "stdout",
     "output_type": "stream",
     "text": [
      "The population in year 1 is 900.00\n",
      "The population in year 2 is 810.00\n",
      "The population in year 3 is 729.00\n",
      "The population in year 4 is 656.10\n",
      "The population in year 5 is 590.49\n",
      "The population in year 6 is 531.44\n",
      "The population in year 7 is 478.30\n",
      "The population in year 8 is 430.47\n",
      "The population in year 9 is 387.42\n"
     ]
    }
   ],
   "source": [
    "cp = 1000\n",
    "gr = 0.1\n",
    "\n",
    "for year  in range(1,10):\n",
    "    np = cp * (1 - gr) \n",
    "    cp = np\n",
    "    print(f\"The population in year {year} is {np:.2f}\")  \n",
    " \n"
   ]
  },
  {
   "cell_type": "code",
   "execution_count": 12,
   "metadata": {},
   "outputs": [
    {
     "name": "stdout",
     "output_type": "stream",
     "text": [
      "The population in year 1 is 1100.00\n",
      "The population in year 2 is 1210.00\n",
      "The population in year 3 is 1331.00\n",
      "The population in year 4 is 1464.10\n",
      "The population in year 5 is 1610.51\n"
     ]
    }
   ],
   "source": [
    "# In Acending \n",
    "\n",
    "cp = 1000  \n",
    "gr = 0.1  \n",
    "\n",
    "\n",
    "for year in range(1, 6):\n",
    "    np = cp * (1 + gr) ** year \n",
    "    print(f\"The population in year {year} is {np:.2f}\")  \n"
   ]
  },
  {
   "cell_type": "code",
   "execution_count": null,
   "metadata": {},
   "outputs": [],
   "source": [
    "  "
   ]
  }
 ],
 "metadata": {
  "kernelspec": {
   "display_name": "Python 3",
   "language": "python",
   "name": "python3"
  },
  "language_info": {
   "codemirror_mode": {
    "name": "ipython",
    "version": 3
   },
   "file_extension": ".py",
   "mimetype": "text/x-python",
   "name": "python",
   "nbconvert_exporter": "python",
   "pygments_lexer": "ipython3",
   "version": "3.11.1"
  }
 },
 "nbformat": 4,
 "nbformat_minor": 2
}
