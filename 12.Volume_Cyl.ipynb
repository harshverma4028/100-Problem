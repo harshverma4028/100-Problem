{
 "cells": [
  {
   "cell_type": "markdown",
   "metadata": {},
   "source": [
    " Write a program to find the volume of the cylinder. Also find the cost when ,when the cost of 1litre milk is 40Rs."
   ]
  },
  {
   "cell_type": "code",
   "execution_count": 2,
   "metadata": {},
   "outputs": [
    {
     "name": "stdout",
     "output_type": "stream",
     "text": [
      "The volume of cylinder is  3140.0\n",
      "The cost of milk will be : 125600.0\n"
     ]
    }
   ],
   "source": [
    "h = float(input(\"Enter the heigh of the cylender: \"))\n",
    "r = float(input(\"Enter the radius of the cylender: \"))\n",
    "pi = 3.14\n",
    "rate =40\n",
    "\n",
    "volume = ( pi * r**2 * h)\n",
    "\n",
    "print(\"The volume of cylinder is \",volume)\n",
    "print(\"The cost of milk will be :\" ,volume*rate)"
   ]
  },
  {
   "cell_type": "code",
   "execution_count": null,
   "metadata": {},
   "outputs": [],
   "source": []
  }
 ],
 "metadata": {
  "kernelspec": {
   "display_name": "Python 3",
   "language": "python",
   "name": "python3"
  },
  "language_info": {
   "codemirror_mode": {
    "name": "ipython",
    "version": 3
   },
   "file_extension": ".py",
   "mimetype": "text/x-python",
   "name": "python",
   "nbconvert_exporter": "python",
   "pygments_lexer": "ipython3",
   "version": "3.11.1"
  }
 },
 "nbformat": 4,
 "nbformat_minor": 2
}
