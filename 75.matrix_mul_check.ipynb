{
 "cells": [
  {
   "cell_type": "markdown",
   "metadata": {},
   "source": [
    "Write a program that can check if you can perform matrix multiplication on 2 matrices"
   ]
  },
  {
   "cell_type": "code",
   "execution_count": 9,
   "metadata": {},
   "outputs": [
    {
     "name": "stdout",
     "output_type": "stream",
     "text": [
      "the no of row in first matrix is  4\n",
      "the column in the second matrix is : 4\n",
      "the matrix multiplication is possible :\n"
     ]
    }
   ],
   "source": [
    "matrix1 = [[1,20,3,4],\n",
    "    [5,6,7,8],\n",
    "    [9,10,11,12]\n",
    "    ]\n",
    "matrix2 = [[1,20,3,4],\n",
    "    [5,6,7,8],\n",
    "    [9,10,11,12],\n",
    "    [9,10,11,12]\n",
    "    ]\n",
    "\n",
    "\n",
    "\n",
    "row = 0\n",
    "for i in matrix1:\n",
    "    row = row + 1\n",
    "\n",
    "row2 = 0\n",
    "for j in matrix2:\n",
    "    row2 +=1\n",
    "\n",
    "print(\"the no of row in first matrix is \",len(i))    \n",
    "print(\"the column in the second matrix is :\",row2)\n",
    "\n",
    "if row2 == len(i):\n",
    "    print(\"the matrix multiplication is possible :\")\n",
    "else:\n",
    "    print(\"the no of rows and columns is not equal so matrix multiplication is not possible\")    \n",
    "\n"
   ]
  },
  {
   "cell_type": "code",
   "execution_count": null,
   "metadata": {},
   "outputs": [],
   "source": []
  }
 ],
 "metadata": {
  "kernelspec": {
   "display_name": "Python 3",
   "language": "python",
   "name": "python3"
  },
  "language_info": {
   "codemirror_mode": {
    "name": "ipython",
    "version": 3
   },
   "file_extension": ".py",
   "mimetype": "text/x-python",
   "name": "python",
   "nbconvert_exporter": "python",
   "pygments_lexer": "ipython3",
   "version": "3.11.1"
  }
 },
 "nbformat": 4,
 "nbformat_minor": 2
}
