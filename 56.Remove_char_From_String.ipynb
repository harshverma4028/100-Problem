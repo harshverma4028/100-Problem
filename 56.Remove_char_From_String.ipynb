{
 "cells": [
  {
   "cell_type": "markdown",
   "metadata": {},
   "source": [
    "Write a program which can remove a particular character from a string."
   ]
  },
  {
   "cell_type": "code",
   "execution_count": 1,
   "metadata": {},
   "outputs": [
    {
     "name": "stdout",
     "output_type": "stream",
     "text": [
      "harhverma\n"
     ]
    }
   ],
   "source": [
    "a = input(\"Enter the String : \")\n",
    "b = int(input(\"Enter the value of the Charcter : \"))\n",
    "\n",
    "c = a[0:b-1]\n",
    "d = a[b:]\n",
    "print(c+d)"
   ]
  },
  {
   "cell_type": "code",
   "execution_count": 6,
   "metadata": {},
   "outputs": [
    {
     "name": "stdout",
     "output_type": "stream",
     "text": [
      "the inital string is harshverma\n",
      "The String after removing char is harshverma\n"
     ]
    }
   ],
   "source": [
    "# a = input(\"Enter the String : \")\n",
    "# b= \"\"\n",
    "# char = input(\"Enter the char that you want to remove : \")\n",
    "\n",
    "# for  i in a:\n",
    "#     if char == i:\n",
    "#         continue\n",
    "#     else:\n",
    "#         b +=i\n",
    "\n",
    "# print(f\"the inital string is {a}\")\n",
    "# print(f\"The String after removing char is {b}\")\n"
   ]
  },
  {
   "cell_type": "code",
   "execution_count": null,
   "metadata": {},
   "outputs": [],
   "source": []
  }
 ],
 "metadata": {
  "kernelspec": {
   "display_name": "Python 3",
   "language": "python",
   "name": "python3"
  },
  "language_info": {
   "codemirror_mode": {
    "name": "ipython",
    "version": 3
   },
   "file_extension": ".py",
   "mimetype": "text/x-python",
   "name": "python",
   "nbconvert_exporter": "python",
   "pygments_lexer": "ipython3",
   "version": "3.11.1"
  }
 },
 "nbformat": 4,
 "nbformat_minor": 2
}
