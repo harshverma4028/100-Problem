{
 "cells": [
  {
   "cell_type": "markdown",
   "metadata": {},
   "source": [
    "Write a program to swap the key value pair for max and min values\n",
    "Eg if the dict is like this {‘a’:1,’b’:2,’c’:3}\n",
    "Output should be {a:3,b:2,c:1}"
   ]
  },
  {
   "cell_type": "code",
   "execution_count": 10,
   "metadata": {},
   "outputs": [
    {
     "name": "stdout",
     "output_type": "stream",
     "text": [
      "{'a': 5, 'b': 2, 'c': 3, 'd': 4, 'e': 1}\n"
     ]
    }
   ],
   "source": [
    "d = {'a': 1, 'b': 2, 'c': 3, 'd': 4, 'e': 5}\n",
    "\n",
    "# Step 1: Find min and max values manually\n",
    "values = list(d.values())\n",
    "\n",
    "min_values = values[0]\n",
    "max_values = values[0]\n",
    "\n",
    "for value in values:\n",
    "    if value < min_values:\n",
    "        min_values = value\n",
    "    if value > max_values:\n",
    "        max_values = value    \n",
    "\n",
    "# Step 2: Find keys for min and max values\n",
    "min_key = max_key = None\n",
    "\n",
    "for key, vlaue in d.items():\n",
    "    if vlaue == min_values:\n",
    "        min_key = key\n",
    "    elif vlaue == max_values:\n",
    "        max_key = key\n",
    "\n",
    "# Step 3: Swap the min and max values\n",
    "if min_key is not None and max_key is not None:\n",
    "    d[min_key], d[max_key] = d[max_key], d[min_key]\n",
    "\n",
    "print(d)\n"
   ]
  },
  {
   "cell_type": "code",
   "execution_count": null,
   "metadata": {},
   "outputs": [],
   "source": []
  },
  {
   "cell_type": "code",
   "execution_count": null,
   "metadata": {},
   "outputs": [],
   "source": []
  }
 ],
 "metadata": {
  "kernelspec": {
   "display_name": "Python 3",
   "language": "python",
   "name": "python3"
  },
  "language_info": {
   "codemirror_mode": {
    "name": "ipython",
    "version": 3
   },
   "file_extension": ".py",
   "mimetype": "text/x-python",
   "name": "python",
   "nbconvert_exporter": "python",
   "pygments_lexer": "ipython3",
   "version": "3.11.1"
  }
 },
 "nbformat": 4,
 "nbformat_minor": 2
}
