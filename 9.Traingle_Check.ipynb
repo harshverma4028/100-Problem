{
 "cells": [
  {
   "cell_type": "markdown",
   "metadata": {},
   "source": [
    "Write a program that take a user inputr of three angles and will find out whether it can form a triangle or not."
   ]
  },
  {
   "cell_type": "code",
   "execution_count": null,
   "metadata": {},
   "outputs": [
    {
     "name": "stdout",
     "output_type": "stream",
     "text": [
      "Possible to make traingle \n"
     ]
    }
   ],
   "source": [
    "a = int(input(\"Enter the First angle : \"))\n",
    "b = int(input(\"Enter the second angle :\"))\n",
    "c = int(input(\"Enter the third angle : \"))\n",
    "\n",
    "\n",
    "\n",
    "\n",
    "if a + b + c == 180 and a != 0 and b != 0 and c != 0:\n",
    "    print(\"Possible to make traingle \") \n",
    "else:\n",
    "    print(\"Not possible to make traingle\")    "
   ]
  },
  {
   "cell_type": "code",
   "execution_count": null,
   "metadata": {},
   "outputs": [],
   "source": []
  }
 ],
 "metadata": {
  "kernelspec": {
   "display_name": "Python 3",
   "language": "python",
   "name": "python3"
  },
  "language_info": {
   "codemirror_mode": {
    "name": "ipython",
    "version": 3
   },
   "file_extension": ".py",
   "mimetype": "text/x-python",
   "name": "python",
   "nbconvert_exporter": "python",
   "pygments_lexer": "ipython3",
   "version": "3.11.1"
  }
 },
 "nbformat": 4,
 "nbformat_minor": 2
}
