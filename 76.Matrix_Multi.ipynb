{
 "cells": [
  {
   "cell_type": "markdown",
   "metadata": {},
   "source": [
    "Write a program to perform matrix multiplication on 2 matrices"
   ]
  },
  {
   "cell_type": "code",
   "execution_count": 2,
   "metadata": {},
   "outputs": [
    {
     "name": "stdout",
     "output_type": "stream",
     "text": [
      "[[164, 210, 220, 248], [170, 286, 222, 248], [266, 470, 350, 392]]\n"
     ]
    }
   ],
   "source": [
    "A= [[1,20,3,4],\n",
    "    [5,6,7,8],\n",
    "    [9,10,11,12]\n",
    "    ]\n",
    "B = [[1,20,3,4],\n",
    "    [5,6,7,8],\n",
    "    [9,10,11,12],\n",
    "    [9,10,11,12]\n",
    "    ]\n",
    "\n",
    " # Number of rows in A and columns in B\n",
    "rows_A = len(A)\n",
    "cols_A = len(A[0])\n",
    "cols_B = len(B[0])\n",
    "\n",
    "## creating resultant matrix\n",
    "result = [[0 for _ in range(cols_B)] for _ in range(rows_A)]\n",
    "\n",
    "    # Iterate through rows of A\n",
    "for i in range(rows_A):\n",
    "    # Iterate through columns of B\n",
    "    for j in range(cols_B):\n",
    "        # Calculate the dot product for result[i][j]\n",
    "        for k in range(cols_A):\n",
    "            result[i][j] += A[i][k] * B[k][j]\n",
    "\n",
    "\n",
    "print(result)\n"
   ]
  }
 ],
 "metadata": {
  "kernelspec": {
   "display_name": "Python 3",
   "language": "python",
   "name": "python3"
  },
  "language_info": {
   "codemirror_mode": {
    "name": "ipython",
    "version": 3
   },
   "file_extension": ".py",
   "mimetype": "text/x-python",
   "name": "python",
   "nbconvert_exporter": "python",
   "pygments_lexer": "ipython3",
   "version": "3.11.1"
  }
 },
 "nbformat": 4,
 "nbformat_minor": 2
}
