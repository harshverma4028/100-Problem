{
 "cells": [
  {
   "cell_type": "markdown",
   "metadata": {},
   "source": [
    "Write a program that keeps on accepting a number from the user until the user enters Zero. Display the sum and average of all the numbers."
   ]
  },
  {
   "cell_type": "code",
   "execution_count": 6,
   "metadata": {},
   "outputs": [
    {
     "name": "stdout",
     "output_type": "stream",
     "text": [
      "the sum of total no is 97\n",
      "the average is 32.333333333333336\n",
      "you entered 3 times \n"
     ]
    }
   ],
   "source": [
    "sum = 0\n",
    "counter = 0\n",
    "while(True):\n",
    "    num = int(input(\"Enter the number\"))\n",
    "    if num <= 0:\n",
    "        break\n",
    "    counter = counter + 1    \n",
    "    sum = sum + num\n",
    "    average = sum/counter\n",
    "\n",
    "print(f\"the sum of total no is {sum}\")\n",
    "print(f\"the average is {average}\")\n",
    "print(f\"you entered {counter} times \")    \n"
   ]
  }
 ],
 "metadata": {
  "kernelspec": {
   "display_name": "Python 3",
   "language": "python",
   "name": "python3"
  },
  "language_info": {
   "codemirror_mode": {
    "name": "ipython",
    "version": 3
   },
   "file_extension": ".py",
   "mimetype": "text/x-python",
   "name": "python",
   "nbconvert_exporter": "python",
   "pygments_lexer": "ipython3",
   "version": "3.11.1"
  }
 },
 "nbformat": 4,
 "nbformat_minor": 2
}
