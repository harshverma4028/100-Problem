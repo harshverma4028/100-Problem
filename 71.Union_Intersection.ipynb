{
 "cells": [
  {
   "cell_type": "markdown",
   "metadata": {},
   "source": [
    " Write a program that can perform union and intersection on 2 given list."
   ]
  },
  {
   "cell_type": "code",
   "execution_count": 5,
   "metadata": {},
   "outputs": [
    {
     "name": "stdout",
     "output_type": "stream",
     "text": [
      "print the union is : [1, 2, 3, 4, 5, 6, 7]\n",
      "the intercetion is [1, 2, 3]\n"
     ]
    }
   ],
   "source": [
    "a = [1,2,3,4,5]\n",
    "b = [6,7,1,2,3]\n",
    "\n",
    "union = []\n",
    "intercetion = []\n",
    "\n",
    "# union \n",
    "for i in a:\n",
    "    if i not in union:\n",
    "        union.append(i)\n",
    "\n",
    "for j in b:\n",
    "    if j not in union:\n",
    "        union.append(j)        \n",
    "\n",
    "print(f\"print the union is : {union}\")\n",
    "\n",
    "## intercection \n",
    "\n",
    "for k in a:\n",
    "    if k in b:\n",
    "        intercetion.append(k)\n",
    "\n",
    "\n",
    "\n",
    "print(f\"the intercetion is {intercetion}\")"
   ]
  },
  {
   "cell_type": "code",
   "execution_count": null,
   "metadata": {},
   "outputs": [],
   "source": []
  }
 ],
 "metadata": {
  "kernelspec": {
   "display_name": "Python 3",
   "language": "python",
   "name": "python3"
  },
  "language_info": {
   "codemirror_mode": {
    "name": "ipython",
    "version": 3
   },
   "file_extension": ".py",
   "mimetype": "text/x-python",
   "name": "python",
   "nbconvert_exporter": "python",
   "pygments_lexer": "ipython3",
   "version": "3.11.1"
  }
 },
 "nbformat": 4,
 "nbformat_minor": 2
}
