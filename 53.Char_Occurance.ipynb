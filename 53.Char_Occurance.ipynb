{
 "cells": [
  {
   "cell_type": "markdown",
   "metadata": {},
   "source": [
    "Count the frequency of a particular character in a provided string. Eg\n",
    "'hello how are you' is the string, the frequency of h in this string is 2."
   ]
  },
  {
   "cell_type": "code",
   "execution_count": null,
   "metadata": {},
   "outputs": [],
   "source": []
  },
  {
   "cell_type": "code",
   "execution_count": 8,
   "metadata": {},
   "outputs": [
    {
     "name": "stdout",
     "output_type": "stream",
     "text": [
      "The j char occured 7 times in that particular String \n"
     ]
    }
   ],
   "source": [
    "a = input(\"Enter the string : \")\n",
    "b = input(\"Enter the Char for search : \")\n",
    "count = 0\n",
    "\n",
    "for i in a:\n",
    "    if i in b:\n",
    "        count +=1\n",
    "\n",
    "print(f\"The {b} char occured {count} times in that particular String \")        "
   ]
  }
 ],
 "metadata": {
  "kernelspec": {
   "display_name": "Python 3",
   "language": "python",
   "name": "python3"
  },
  "language_info": {
   "codemirror_mode": {
    "name": "ipython",
    "version": 3
   },
   "file_extension": ".py",
   "mimetype": "text/x-python",
   "name": "python",
   "nbconvert_exporter": "python",
   "pygments_lexer": "ipython3",
   "version": "3.11.1"
  }
 },
 "nbformat": 4,
 "nbformat_minor": 2
}
