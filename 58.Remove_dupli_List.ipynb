{
 "cells": [
  {
   "cell_type": "markdown",
   "metadata": {},
   "source": [
    "remove all the duplicates from a list"
   ]
  },
  {
   "cell_type": "code",
   "execution_count": 1,
   "metadata": {},
   "outputs": [
    {
     "name": "stdout",
     "output_type": "stream",
     "text": [
      "the original list is [1, 1, 1, 2, 2, 2, 3, 4, 5, 6, 6, 6, 6, 6, 4, 4, 4, 7, 8, 9]\n",
      "The list after removing the is [1, 2, 3, 4, 5, 6, 7, 8, 9]\n"
     ]
    }
   ],
   "source": [
    "L1 = [1,1,1,2,2,2,3,4,5,6,6,6,6,6,4,4,4,7,8,9]\n",
    "L2 = []\n",
    "\n",
    "for i in L1:\n",
    "    if i not in L2:\n",
    "        L2.append(i)\n",
    "\n",
    "print(f\"the original list is {L1}\")\n",
    "print(\"The list after removing the is\",L2)"
   ]
  },
  {
   "cell_type": "code",
   "execution_count": null,
   "metadata": {},
   "outputs": [],
   "source": []
  }
 ],
 "metadata": {
  "kernelspec": {
   "display_name": "Python 3",
   "language": "python",
   "name": "python3"
  },
  "language_info": {
   "codemirror_mode": {
    "name": "ipython",
    "version": 3
   },
   "file_extension": ".py",
   "mimetype": "text/x-python",
   "name": "python",
   "nbconvert_exporter": "python",
   "pygments_lexer": "ipython3",
   "version": "3.11.1"
  }
 },
 "nbformat": 4,
 "nbformat_minor": 2
}
