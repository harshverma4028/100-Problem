{
 "cells": [
  {
   "cell_type": "markdown",
   "metadata": {},
   "source": [
    " Write a Python program that accepts an integer (n) and computes the value of n+nn+nnn."
   ]
  },
  {
   "cell_type": "code",
   "execution_count": 2,
   "metadata": {},
   "outputs": [
    {
     "name": "stdout",
     "output_type": "stream",
     "text": [
      "The value of n is 2\n",
      "The nn is 22\n",
      "The vlue of nnn is 222\n",
      "the n+nn+nnn term is 246\n"
     ]
    }
   ],
   "source": [
    "n = input(\"Enter the vlue of n : \")\n",
    "print(f\"The value of n is {n}\")\n",
    "\n",
    "nn = n + n\n",
    "print(f\"The nn is {nn}\")\n",
    "\n",
    "nnn = n + n + n\n",
    "print(f\"The vlue of nnn is {nnn}\")\n",
    "\n",
    "sum = int(n) + int(nn) + int(nnn)\n",
    "print(f\"the n+nn+nnn term is {sum}\")\n"
   ]
  },
  {
   "cell_type": "code",
   "execution_count": null,
   "metadata": {},
   "outputs": [],
   "source": []
  }
 ],
 "metadata": {
  "kernelspec": {
   "display_name": "Python 3",
   "language": "python",
   "name": "python3"
  },
  "language_info": {
   "codemirror_mode": {
    "name": "ipython",
    "version": 3
   },
   "file_extension": ".py",
   "mimetype": "text/x-python",
   "name": "python",
   "nbconvert_exporter": "python",
   "pygments_lexer": "ipython3",
   "version": "3.11.1"
  }
 },
 "nbformat": 4,
 "nbformat_minor": 2
}
