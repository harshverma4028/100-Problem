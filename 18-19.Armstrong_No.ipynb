{
 "cells": [
  {
   "cell_type": "markdown",
   "metadata": {},
   "source": [
    " Write a program that will check whether the number is armstrong number or not."
   ]
  },
  {
   "cell_type": "code",
   "execution_count": 5,
   "metadata": {},
   "outputs": [
    {
     "name": "stdout",
     "output_type": "stream",
     "text": [
      "This is Not Armstrong No\n"
     ]
    }
   ],
   "source": [
    "user_input = int(input(\"Enter your 3 digit No : \"))\n",
    "num = user_input\n",
    "\n",
    "a = num % 10\n",
    "num = num // 10\n",
    "b = num % 10\n",
    "c  = num // 10\n",
    "\n",
    "\n",
    "result = (a**3) + (b**3) + (c**3)\n",
    "if user_input == result:\n",
    "    print(\"This is Armstrong no\")\n",
    "else:\n",
    "    print(\"This is Not Armstrong No\")    "
   ]
  },
  {
   "cell_type": "markdown",
   "metadata": {},
   "source": [
    "For  N digit"
   ]
  },
  {
   "cell_type": "code",
   "execution_count": 8,
   "metadata": {},
   "outputs": [
    {
     "name": "stdout",
     "output_type": "stream",
     "text": [
      "The No is not a Armstrong No\n"
     ]
    }
   ],
   "source": [
    "user_input = int(input(\"Enter your  digit : \"))\n",
    "num = user_input\n",
    "order = len(str(user_input))\n",
    "sum = 0\n",
    "\n",
    "while num > 0:\n",
    "    digit = num % 10\n",
    "    sum += digit**order\n",
    "    num = num // 10\n",
    "\n",
    "if sum == user_input:\n",
    "    print(\"The number you given is the Armstrong  : \")\n",
    "else:\n",
    "    print(\"The No is not a Armstrong No\")        \n",
    "\n"
   ]
  },
  {
   "cell_type": "code",
   "execution_count": null,
   "metadata": {},
   "outputs": [],
   "source": []
  }
 ],
 "metadata": {
  "kernelspec": {
   "display_name": "Python 3",
   "language": "python",
   "name": "python3"
  },
  "language_info": {
   "codemirror_mode": {
    "name": "ipython",
    "version": 3
   },
   "file_extension": ".py",
   "mimetype": "text/x-python",
   "name": "python",
   "nbconvert_exporter": "python",
   "pygments_lexer": "ipython3",
   "version": "3.11.1"
  }
 },
 "nbformat": 4,
 "nbformat_minor": 2
}
