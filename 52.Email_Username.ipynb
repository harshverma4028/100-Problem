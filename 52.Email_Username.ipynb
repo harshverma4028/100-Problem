{
 "cells": [
  {
   "cell_type": "markdown",
   "metadata": {},
   "source": [
    "Extract username from a given email. Eg if the email is nitish24singh@gmail.com then the username should be nitish24singh"
   ]
  },
  {
   "cell_type": "code",
   "execution_count": 3,
   "metadata": {},
   "outputs": [
    {
     "name": "stdout",
     "output_type": "stream",
     "text": [
      "Hii your username is harsh and mail is harsh@23\n"
     ]
    }
   ],
   "source": [
    "mail = input(\"Enter the email adderess : \")\n",
    "\n",
    "user,email = mail.split('@')\n",
    "\n",
    "print(f\"Hii your username is {user} and mail is {mail}\")"
   ]
  },
  {
   "cell_type": "code",
   "execution_count": null,
   "metadata": {},
   "outputs": [],
   "source": []
  }
 ],
 "metadata": {
  "kernelspec": {
   "display_name": "Python 3",
   "language": "python",
   "name": "python3"
  },
  "language_info": {
   "codemirror_mode": {
    "name": "ipython",
    "version": 3
   },
   "file_extension": ".py",
   "mimetype": "text/x-python",
   "name": "python",
   "nbconvert_exporter": "python",
   "pygments_lexer": "ipython3",
   "version": "3.11.1"
  }
 },
 "nbformat": 4,
 "nbformat_minor": 2
}
