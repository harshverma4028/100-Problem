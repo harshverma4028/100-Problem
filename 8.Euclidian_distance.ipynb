{
 "cells": [
  {
   "cell_type": "markdown",
   "metadata": {},
   "source": [
    "Write a program to find the euclidean distance between two\n",
    "coordinates."
   ]
  },
  {
   "cell_type": "code",
   "execution_count": 8,
   "metadata": {},
   "outputs": [
    {
     "name": "stdout",
     "output_type": "stream",
     "text": [
      "15.930775247928144\n"
     ]
    }
   ],
   "source": [
    "import math\n",
    "\n",
    "xa,xb = 3.44,-5.2\n",
    "ya,yb = -5.0,3.3\n",
    "za,zb = 7.3,-3.2\n",
    "\n",
    "dist = math.sqrt((xa - xb)**2 + (ya - yb)**2 + (za - zb)**2)\n",
    "\n",
    "print(dist)"
   ]
  },
  {
   "cell_type": "code",
   "execution_count": 9,
   "metadata": {},
   "outputs": [
    {
     "name": "stdout",
     "output_type": "stream",
     "text": [
      "5.385164807134504\n"
     ]
    }
   ],
   "source": [
    "x1 = float(input(\"Enter the cordinates of X1\"))\n",
    "x2 = float(input(\"Enter the cordinates of X2\"))\n",
    "y1 = float(input(\"Enter the cordinates of y1\"))\n",
    "y2 = float(input(\"Enter the cordinates of y2\"))\n",
    "\n",
    "d = ((x1 - x2)**2 + (y1 - y2)**2)**0.5\n",
    "print(d)"
   ]
  },
  {
   "cell_type": "code",
   "execution_count": null,
   "metadata": {},
   "outputs": [],
   "source": []
  }
 ],
 "metadata": {
  "kernelspec": {
   "display_name": "Python 3",
   "language": "python",
   "name": "python3"
  },
  "language_info": {
   "codemirror_mode": {
    "name": "ipython",
    "version": 3
   },
   "file_extension": ".py",
   "mimetype": "text/x-python",
   "name": "python",
   "nbconvert_exporter": "python",
   "pygments_lexer": "ipython3",
   "version": "3.11.1"
  }
 },
 "nbformat": 4,
 "nbformat_minor": 2
}
