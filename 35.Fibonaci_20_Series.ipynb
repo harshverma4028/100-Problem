{
 "cells": [
  {
   "cell_type": "code",
   "execution_count": null,
   "metadata": {},
   "outputs": [],
   "source": []
  },
  {
   "cell_type": "markdown",
   "metadata": {},
   "source": [
    "Print the first 20 numbers of a Fibonacci series"
   ]
  },
  {
   "cell_type": "code",
   "execution_count": 10,
   "metadata": {},
   "outputs": [
    {
     "name": "stdout",
     "output_type": "stream",
     "text": [
      "the fibonacci of 25 is the 75025\n"
     ]
    }
   ],
   "source": [
    "n = int(input('Enter the term '))\n",
    "prevNum = 0\n",
    "currNum = 1\n",
    "\n",
    "for i in range(1,n):\n",
    "    preprevNum = prevNum\n",
    "    prevNum = currNum\n",
    "    currNum = prevNum + preprevNum\n",
    "print(f\"the fibonacci of {n} is the {currNum}\")            "
   ]
  },
  {
   "cell_type": "code",
   "execution_count": 11,
   "metadata": {},
   "outputs": [
    {
     "name": "stdout",
     "output_type": "stream",
     "text": [
      "The fibonacci of 25 is 75025\n"
     ]
    }
   ],
   "source": [
    "n = int(input(\"Enter the no : \"))\n",
    "\n",
    "def fibrec(n):\n",
    "    if n ==0:\n",
    "        return 0\n",
    "    elif n==1:\n",
    "        return 1\n",
    "    else:\n",
    "        return fibrec(n-1) + fibrec(n-2)\n",
    "    \n",
    "print(f\"The fibonacci of {n} is {fibrec(n)}\")"
   ]
  },
  {
   "cell_type": "code",
   "execution_count": null,
   "metadata": {},
   "outputs": [],
   "source": []
  }
 ],
 "metadata": {
  "kernelspec": {
   "display_name": "Python 3",
   "language": "python",
   "name": "python3"
  },
  "language_info": {
   "codemirror_mode": {
    "name": "ipython",
    "version": 3
   },
   "file_extension": ".py",
   "mimetype": "text/x-python",
   "name": "python",
   "nbconvert_exporter": "python",
   "pygments_lexer": "ipython3",
   "version": "3.11.1"
  }
 },
 "nbformat": 4,
 "nbformat_minor": 2
}
