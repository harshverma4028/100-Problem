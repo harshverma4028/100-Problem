{
 "cells": [
  {
   "cell_type": "markdown",
   "metadata": {},
   "source": [
    "Write a function that accepts a string and returns the number of upper\n",
    "case chars and lower case chars as a dictionary"
   ]
  },
  {
   "cell_type": "code",
   "execution_count": 3,
   "metadata": {},
   "outputs": [
    {
     "name": "stdout",
     "output_type": "stream",
     "text": [
      "the no of lower case 8 and the upper case is 2\n"
     ]
    }
   ],
   "source": [
    "i = input(\"Enter the string here : \")\n",
    "uper = 0\n",
    "lowr = 0\n",
    "for ch in i:\n",
    "    if ch.isupper():\n",
    "        uper +=1\n",
    "    else:\n",
    "        lowr +=1    \n",
    "\n",
    "print(f\"the no of lower case {lowr} and the upper case is {uper}\")        "
   ]
  }
 ],
 "metadata": {
  "kernelspec": {
   "display_name": "Python 3",
   "language": "python",
   "name": "python3"
  },
  "language_info": {
   "codemirror_mode": {
    "name": "ipython",
    "version": 3
   },
   "file_extension": ".py",
   "mimetype": "text/x-python",
   "name": "python",
   "nbconvert_exporter": "python",
   "pygments_lexer": "ipython3",
   "version": "3.11.1"
  }
 },
 "nbformat": 4,
 "nbformat_minor": 2
}
