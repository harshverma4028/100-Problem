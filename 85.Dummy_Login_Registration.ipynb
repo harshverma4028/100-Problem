{
 "cells": [
  {
   "cell_type": "markdown",
   "metadata": {},
   "source": [
    "Write a dummy program that can perform login and registration using\n",
    " a menu driven program"
   ]
  },
  {
   "cell_type": "code",
   "execution_count": 17,
   "metadata": {},
   "outputs": [
    {
     "name": "stdout",
     "output_type": "stream",
     "text": [
      "the ragistration for the user is done ['Vidrohi', 'asdf@jkl;']\n",
      "\n",
      "bye\n"
     ]
    }
   ],
   "source": [
    "database = {}\n",
    "\n",
    "def user_menu():\n",
    "\n",
    "    user_input = input('''\n",
    "    1. Enter 1 to Register\n",
    "    2. Enter 2 to Login\n",
    "    3. Enter 3 to Exit\n",
    "    ''')\n",
    "\n",
    "    if user_input == '1':\n",
    "        register()\n",
    "    elif user_input == '2':\n",
    "        login()\n",
    "    else:\n",
    "        print('bye')\n",
    "\n",
    "def register():\n",
    "    name = input(\"Enter your name : \")\n",
    "    email = input(\"Enter your email id : \")\n",
    "    password = input(\"Enter you password \")\n",
    "\n",
    "    database[email] = [name,password]\n",
    "    print(f'the ragistration for the user is done {database[email]}')\n",
    "    print()\n",
    "    user_menu()\n",
    "\n",
    "def login():\n",
    "    email = input('Enter teh email id: ')\n",
    "    password = input('Enter the password')\n",
    "    flag  = 0 \n",
    "\n",
    "    for i in database:\n",
    "        if email ==i:\n",
    "            flag = 1\n",
    "            if password == database[i][1]:\n",
    "                print('welcome ')\n",
    "            else:\n",
    "                print('Incorect credential')    \n",
    "    if flag ==0:\n",
    "        print(\"Email not\")\n",
    "\n",
    "user_menu()        "
   ]
  },
  {
   "cell_type": "code",
   "execution_count": null,
   "metadata": {},
   "outputs": [],
   "source": []
  }
 ],
 "metadata": {
  "kernelspec": {
   "display_name": "Python 3",
   "language": "python",
   "name": "python3"
  },
  "language_info": {
   "codemirror_mode": {
    "name": "ipython",
    "version": 3
   },
   "file_extension": ".py",
   "mimetype": "text/x-python",
   "name": "python",
   "nbconvert_exporter": "python",
   "pygments_lexer": "ipython3",
   "version": "3.11.1"
  }
 },
 "nbformat": 4,
 "nbformat_minor": 2
}
