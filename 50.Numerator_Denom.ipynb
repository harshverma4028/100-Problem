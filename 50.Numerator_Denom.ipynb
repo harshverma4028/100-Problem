{
 "cells": [
  {
   "cell_type": "markdown",
   "metadata": {},
   "source": [
    "Write a program that accepts 2 numbers from the user a numerator and a denominator and then simplifies it\n",
    "Eg if the num = 5, den = 15 the answer should be ⅓\n",
    "Eg if the num = 6, den = 9 the answer should be ⅔"
   ]
  },
  {
   "cell_type": "code",
   "execution_count": null,
   "metadata": {},
   "outputs": [],
   "source": []
  },
  {
   "cell_type": "code",
   "execution_count": 1,
   "metadata": {},
   "outputs": [
    {
     "name": "stdout",
     "output_type": "stream",
     "text": [
      "0.6666666666666666\n"
     ]
    }
   ],
   "source": [
    "num = int(input(\"Enter the Num : \"))\n",
    "num_1 = num\n",
    "den = int(input(\"Enter the Den : \"))\n",
    "num_2 = den\n",
    "\n",
    "while num_1 % num_2 !=0:\n",
    "    rem = num_1 % num_2\n",
    "    num_1 = num_2\n",
    "    num_2 = rem\n",
    "hcf = num_2\n",
    "num = num/hcf\n",
    "den = den/hcf\n",
    "\n",
    "print(num/den)\n"
   ]
  }
 ],
 "metadata": {
  "kernelspec": {
   "display_name": "Python 3",
   "language": "python",
   "name": "python3"
  },
  "language_info": {
   "codemirror_mode": {
    "name": "ipython",
    "version": 3
   },
   "file_extension": ".py",
   "mimetype": "text/x-python",
   "name": "python",
   "nbconvert_exporter": "python",
   "pygments_lexer": "ipython3",
   "version": "3.11.1"
  }
 },
 "nbformat": 4,
 "nbformat_minor": 2
}
